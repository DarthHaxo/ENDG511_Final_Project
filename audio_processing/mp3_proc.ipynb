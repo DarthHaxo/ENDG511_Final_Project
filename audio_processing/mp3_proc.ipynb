{
 "cells": [
  {
   "cell_type": "code",
   "execution_count": 3,
   "metadata": {},
   "outputs": [],
   "source": [
    "import librosa\n",
    "import librosa.display\n",
    "import numpy as np\n",
    "import matplotlib.pyplot as plt\n",
    "from pydub import AudioSegment\n",
    "from PIL import Image\n",
    "import os\n",
    "import re\n",
    "import itertools\n",
    "\n",
    "AudioSegment.converter = r\"C:\\Users\\levis\\miscApps\\ffmpeg_build\\bin\\ffmpeg.exe\"\n",
    "\n",
    "\n",
    "\n",
    "#       C:\\Git_repos\\ENDG 511\\ENDG511_Final_Project\\audio_processing\\audio_sample.mp3\n",
    "\n",
    "cwd = r\"C:/Git_repos/ENDG 511/ENDG511_Final_Project/audio_processing/\"\n",
    "# mp3_file = cwd+\"audio_sample.mp3\"  # Change this to your MP3 file\n",
    "output_folder = cwd+\"spectrograms\"  # Folder to save spectrogram images\n",
    "os.makedirs(output_folder, exist_ok=True)\n",
    "# Load MP3 file\n",
    "# audio = AudioSegment.from_mp3(mp3_file)\n",
    "# audio = audio.set_channels(1)"
   ]
  },
  {
   "cell_type": "code",
   "execution_count": null,
   "metadata": {},
   "outputs": [
    {
     "name": "stdout",
     "output_type": "stream",
     "text": [
      "hop resolution: 11.6875ms , 85.56149732620321Hz\n",
      "window length: 46.875ms , 21.333333333333332Hz\n",
      "x size: 257.0\n",
      "y size: 1025\n"
     ]
    }
   ],
   "source": [
    "# Set sample rate (reduces storage if needed)\n",
    "sr = 16000 \n",
    "# sr = 32000\n",
    "\n",
    "n_fft=2048 # number of frequency bins\n",
    "win_length1 = 750 #default: N_fft\n",
    "win_length2 = 1500 #default: N_fft\n",
    "hop_length=win_length1//4 #default: win_length//4\n",
    "segment_length = 3 * 1000  # 5 seconds in milliseconds\n",
    "\n",
    "audio = audio.set_frame_rate(sr)\n",
    "num_segments = len(audio) // segment_length  # Ignore remainder\n",
    "\n",
    "\n",
    "\n",
    "\n",
    "#resolution:\n",
    "hop_resolution = hop_length/sr\n",
    "print(f'hop resolution: {hop_resolution*1000}ms , {1/hop_resolution}Hz')\n",
    "print(f'window length: {win_length1/sr*1000}ms , {sr/win_length1}Hz')\n",
    "print(f'x size: {(sr*segment_length/1000)//hop_length+1}')\n",
    "print(f'y size: {n_fft//2+1}')\n",
    "\n",
    "\n"
   ]
  },
  {
   "cell_type": "code",
   "execution_count": null,
   "metadata": {},
   "outputs": [
    {
     "name": "stdout",
     "output_type": "stream",
     "text": [
      "<class 'numpy.ndarray'>\n",
      "(np.float64(-3.90625), np.float64(8003.90625))\n",
      "Saved: C:/Git_repos/ENDG 511/ENDG511_Final_Project/audio_processing/spectrograms\\spectrogram_3000_000.png\n",
      "<class 'numpy.ndarray'>\n",
      "(np.float64(-3.90625), np.float64(8003.90625))\n",
      "Saved: C:/Git_repos/ENDG 511/ENDG511_Final_Project/audio_processing/spectrograms\\spectrogram_3000_001.png\n",
      "<class 'numpy.ndarray'>\n",
      "(np.float64(-3.90625), np.float64(8003.90625))\n",
      "Saved: C:/Git_repos/ENDG 511/ENDG511_Final_Project/audio_processing/spectrograms\\spectrogram_3000_002.png\n",
      "<class 'numpy.ndarray'>\n",
      "(np.float64(-3.90625), np.float64(8003.90625))\n",
      "Saved: C:/Git_repos/ENDG 511/ENDG511_Final_Project/audio_processing/spectrograms\\spectrogram_3000_003.png\n",
      "All spectrograms generated successfully.\n"
     ]
    }
   ],
   "source": [
    "\n",
    "S0 =0\n",
    "for i in range(num_segments):\n",
    "    # Extract segment\n",
    "    segment = audio[i * segment_length : (i + 1) * segment_length]\n",
    "\n",
    "    # Convert to NumPy array and normalize\n",
    "    samples = np.array(segment.get_array_of_samples()).astype(np.float32) / 2**15\n",
    "\n",
    "    # Compute spectrogram using STFT\n",
    "    S = librosa.stft(samples, n_fft=n_fft,win_length = win_length1, hop_length=hop_length)  \n",
    "\n",
    "    #The number of rows in the STFT matrix D is (1 + n_fft/2).\n",
    "    S_db = librosa.amplitude_to_db(np.abs(S), ref=np.max)\n",
    "    S0 = S_db\n",
    "    print(type(S_db))\n",
    "    # Save spectrogram as PNG\n",
    "    # plt.figure(figsize=(2.56, 2.56), dpi=100)  # 2.56 inches * 100 dpi = 256 pixels\n",
    "    # librosa.display.specshow(S_db, sr=sr, n_fft=n_fft, win_length=win_length1, hop_length=hop_length, x_axis=\"time\", y_axis=\"log\", cmap=\"gray\")\n",
    "    # # plt.axis(\"on\")  # Remove axis for compact storage\n",
    "    # output_file = os.path.join(output_folder, f\"spectrogram_{segment_length}_{i:03d}.png\")\n",
    "    # plt.savefig(output_file, bbox_inches=\"tight\", pad_inches=0)\n",
    "    # plt.close()\n",
    "\n",
    "    fig, ax = plt.subplots(figsize=(2.56, 2.56), dpi=100)  # 256x256 pixels\n",
    "    librosa.display.specshow(S_db, sr=sr, n_fft=n_fft, win_length=win_length1, hop_length=hop_length, x_axis=\"time\", y_axis=\"log\", cmap=\"gray\")\n",
    "\n",
    "    # Remove axes for a clean image\n",
    "    ax.set_axis_off()\n",
    "    plt.tight_layout(pad=0)\n",
    "    print(plt.ylim())\n",
    "    plt.ylim([30,6000])\n",
    "\n",
    "\n",
    "    # Save the figure to a temporary buffer\n",
    "    temp_file = os.path.join(output_folder, f\"temp_spectrogram.png\")\n",
    "    plt.savefig(temp_file, bbox_inches=\"tight\", pad_inches=0, dpi=100)\n",
    "    plt.close(fig)\n",
    "\n",
    "    # Load and process the image\n",
    "    img = Image.open(temp_file).convert(\"L\")  # Convert to grayscale ('L' mode)\n",
    "    img = img.resize((256, 256))  # Ensure correct dimensions\n",
    "\n",
    "    # Convert to numpy and reshape to (1,256,256)\n",
    "    img_array = np.array(img, dtype=np.uint8)  # Convert to NumPy array\n",
    "    img_array = img_array[np.newaxis, :, :]  # Add channel dimension (1,256,256)\n",
    "\n",
    "    # Save final processed image\n",
    "    output_file = os.path.join(output_folder, f\"spectrogram_{segment_length}_{i:03d}.png\")\n",
    "    Image.fromarray(img_array.squeeze()).save(output_file)\n",
    "\n",
    "    print(f\"Saved: {output_file}\")\n",
    "\n",
    "print(\"All spectrograms generated successfully.\")"
   ]
  },
  {
   "cell_type": "code",
   "execution_count": 7,
   "metadata": {},
   "outputs": [],
   "source": [
    "\n",
    "S0 =0\n",
    "def convert_to_png(file_name,class_name, output_folder, num_segments = None, audio_type = \"mp3\"):\n",
    "    \"\"\"\n",
    "    params\n",
    "\n",
    "\n",
    "    \"\"\"\n",
    "    sr = 16000 \n",
    "    n_fft=2048 \n",
    "    win_length1 = 750 \n",
    "    hop_length=win_length1//4 \n",
    "    segment_length = 3 * 1000 \n",
    "    audio = AudioSegment.from_mp3(file_name)\n",
    "    audio = audio.set_channels(1)\n",
    "    audio = audio.set_frame_rate(sr)\n",
    "    if num_segments is None:\n",
    "        num_segments = len(audio) // segment_length  # Ignore remainder\n",
    "    for i in range(num_segments):\n",
    "    # Extract segment\n",
    "        segment = audio[i * segment_length : (i + 1) * segment_length]\n",
    "\n",
    "    # Convert to NumPy array and normalize\n",
    "        samples = np.array(segment.get_array_of_samples()).astype(np.float32) / 2**15\n",
    "\n",
    "    # Compute spectrogram using STFT\n",
    "        S = librosa.stft(samples, n_fft=n_fft,win_length = win_length1, hop_length=hop_length)  \n",
    "\n",
    "    #The number of rows in the STFT matrix D is (1 + n_fft/2).\n",
    "        S_db = librosa.amplitude_to_db(np.abs(S), ref=np.max)\n",
    "        S0 = S_db\n",
    "        # print(type(S_db))\n",
    "        # Save spectrogram as PNG\n",
    "        # plt.figure(figsize=(2.56, 2.56), dpi=100)  # 2.56 inches * 100 dpi = 256 pixels\n",
    "        # librosa.display.specshow(S_db, sr=sr, n_fft=n_fft, win_length=win_length1, hop_length=hop_length, x_axis=\"time\", y_axis=\"log\", cmap=\"gray\")\n",
    "        # # plt.axis(\"on\")  # Remove axis for compact storage\n",
    "        # output_file = os.path.join(output_folder, f\"spectrogram_{segment_length}_{i:03d}.png\")\n",
    "        # plt.savefig(output_file, bbox_inches=\"tight\", pad_inches=0)\n",
    "        # plt.close()\n",
    "\n",
    "        fig, ax = plt.subplots(figsize=(2.56, 2.56), dpi=100)  # 256x256 pixels\n",
    "        librosa.display.specshow(S_db, sr=sr, n_fft=n_fft, win_length=win_length1, hop_length=hop_length, x_axis=\"time\", y_axis=\"log\", cmap=\"gray\")\n",
    "\n",
    "        # Remove axes for a clean image\n",
    "        ax.set_axis_off()\n",
    "        plt.tight_layout(pad=0)\n",
    "        # print(plt.ylim())\n",
    "        plt.ylim([30,6000])\n",
    "\n",
    "\n",
    "    # Save the figure to a temporary buffer\n",
    "        os.makedirs(output_folder, exist_ok=True)\n",
    "        temp_file = os.path.join(output_folder, f\"temp_spectrogram.png\")\n",
    "        fig.savefig(temp_file, bbox_inches=\"tight\", pad_inches=0, dpi=100)\n",
    "        plt.close(fig)\n",
    "\n",
    "    # Load and process the image\n",
    "        with Image.open(temp_file) as img:\n",
    "            img = Image.open(temp_file).convert(\"L\")  # Convert to grayscale ('L' mode)\n",
    "            img = img.resize((256, 256))  # Ensure correct dimensions\n",
    "\n",
    "        # Convert to numpy and reshape to (1,256,256)\n",
    "            img_array = np.array(img, dtype=np.uint8)  # Convert to NumPy array\n",
    "            img_array = img_array[np.newaxis, :, :]  # Add channel dimension (1,256,256)\n",
    "\n",
    "        # Save final processed image\n",
    "            numbers = re.findall(r'\\d+', file_name)\n",
    "            if numbers:\n",
    "                file_number = int(numbers[-2])  # Get the 2nd last number\n",
    "            output_file = os.path.join(output_folder, class_name+f\"_{file_number}{i:03d}.png\")\n",
    "            Image.fromarray(img_array.squeeze()).save(output_file)\n",
    "\n",
    "        # print(f\"Saved: {output_file}\")\n",
    "    return num_segments\n"
   ]
  },
  {
   "cell_type": "code",
   "execution_count": null,
   "metadata": {},
   "outputs": [
    {
     "name": "stdout",
     "output_type": "stream",
     "text": [
      "18745258\n"
     ]
    }
   ],
   "source": [
    "\n",
    "\n",
    "filename = \"common_voice_es_18745258.mp3\"\n"
   ]
  },
  {
   "cell_type": "code",
   "execution_count": null,
   "metadata": {},
   "outputs": [
    {
     "name": "stdout",
     "output_type": "stream",
     "text": [
      "shape (513, 188)\n",
      "hop resolution: 16.0ms , 62.5Hz\n",
      "window length: 64.0ms , 15.625Hz\n"
     ]
    }
   ],
   "source": [
    "print(\"shape\",np.shape(S0))"
   ]
  },
  {
   "cell_type": "code",
   "execution_count": 8,
   "metadata": {},
   "outputs": [
    {
     "name": "stdout",
     "output_type": "stream",
     "text": [
      "french: 1001 files\n"
     ]
    }
   ],
   "source": [
    "folders = {\n",
    "    \"english\" : r\"D:\\voice_data\\english\\cv-corpus-20.0-2024-12-06\\en\\clips\",\n",
    "    \"arabic\" : r\"D:\\voice_data\\arabic\\cv-corpus-20.0-2024-12-06\\ar\\clips\",\n",
    "    \"german\" : r\"D:\\voice_data\\german\\cv-corpus-20.0-2024-12-06\\de\\clips\",\n",
    "    \"mandarin\": r\"D:\\voice_data\\mandarin\\cv-corpus-20.0-2024-12-06\\zh-TW\\clips\",\n",
    "    \"spanish\" : r\"D:\\voice_data\\spanish\\cv-corpus-20.0-2024-12-06\\es\\clips\",\n",
    "    \"french\"  : r\"C:\\Users\\levis\\Downloads\\french\\cv-corpus-20.0-2024-12-06\\fr\\clips\"\n",
    "}\n",
    "class_names = [\n",
    "    # \"english\" ,\n",
    "    # \"arabic\"  ,\n",
    "    # \"german\"  ,\n",
    "    # \"mandarin\",\n",
    "    # \"spanish\",\n",
    "     \"french\"  ]\n",
    "\n",
    "max_files = 1000\n",
    "output_folder = r\"C:\\Git_repos\\ENDG 511\\ENDG511_Final_Project\\audio_processing\\sample_dataset\"\n",
    "for name in class_names:\n",
    "    folder_path = folders[name]\n",
    "    mp3files = [entry.path for entry in itertools.islice(os.scandir(folder_path), max_files*2)]\n",
    "    class_output_folder = output_folder+\"\\\\\"+name\n",
    "    file_count = 0\n",
    "    for file in mp3files:\n",
    "        file_count+=convert_to_png(file,name, class_output_folder)\n",
    "        if file_count>=max_files:\n",
    "            break\n",
    "    print(name+f': {file_count} files')\n",
    "\n",
    "\n"
   ]
  },
  {
   "cell_type": "code",
   "execution_count": 18,
   "metadata": {},
   "outputs": [
    {
     "name": "stdout",
     "output_type": "stream",
     "text": [
      "['D:\\\\voice_data\\\\english\\\\cv-corpus-20.0-2024-12-06\\\\en\\\\clips\\\\common_voice_en_1.mp3', 'D:\\\\voice_data\\\\english\\\\cv-corpus-20.0-2024-12-06\\\\en\\\\clips\\\\common_voice_en_10.mp3', 'D:\\\\voice_data\\\\english\\\\cv-corpus-20.0-2024-12-06\\\\en\\\\clips\\\\common_voice_en_100.mp3', 'D:\\\\voice_data\\\\english\\\\cv-corpus-20.0-2024-12-06\\\\en\\\\clips\\\\common_voice_en_1000.mp3', 'D:\\\\voice_data\\\\english\\\\cv-corpus-20.0-2024-12-06\\\\en\\\\clips\\\\common_voice_en_10000.mp3', 'D:\\\\voice_data\\\\english\\\\cv-corpus-20.0-2024-12-06\\\\en\\\\clips\\\\common_voice_en_100000.mp3', 'D:\\\\voice_data\\\\english\\\\cv-corpus-20.0-2024-12-06\\\\en\\\\clips\\\\common_voice_en_100001.mp3', 'D:\\\\voice_data\\\\english\\\\cv-corpus-20.0-2024-12-06\\\\en\\\\clips\\\\common_voice_en_100002.mp3', 'D:\\\\voice_data\\\\english\\\\cv-corpus-20.0-2024-12-06\\\\en\\\\clips\\\\common_voice_en_100003.mp3', 'D:\\\\voice_data\\\\english\\\\cv-corpus-20.0-2024-12-06\\\\en\\\\clips\\\\common_voice_en_100004.mp3', 'D:\\\\voice_data\\\\english\\\\cv-corpus-20.0-2024-12-06\\\\en\\\\clips\\\\common_voice_en_100005.mp3', 'D:\\\\voice_data\\\\english\\\\cv-corpus-20.0-2024-12-06\\\\en\\\\clips\\\\common_voice_en_100006.mp3', 'D:\\\\voice_data\\\\english\\\\cv-corpus-20.0-2024-12-06\\\\en\\\\clips\\\\common_voice_en_100007.mp3', 'D:\\\\voice_data\\\\english\\\\cv-corpus-20.0-2024-12-06\\\\en\\\\clips\\\\common_voice_en_100008.mp3', 'D:\\\\voice_data\\\\english\\\\cv-corpus-20.0-2024-12-06\\\\en\\\\clips\\\\common_voice_en_100009.mp3', 'D:\\\\voice_data\\\\english\\\\cv-corpus-20.0-2024-12-06\\\\en\\\\clips\\\\common_voice_en_10001.mp3', 'D:\\\\voice_data\\\\english\\\\cv-corpus-20.0-2024-12-06\\\\en\\\\clips\\\\common_voice_en_100010.mp3', 'D:\\\\voice_data\\\\english\\\\cv-corpus-20.0-2024-12-06\\\\en\\\\clips\\\\common_voice_en_100011.mp3', 'D:\\\\voice_data\\\\english\\\\cv-corpus-20.0-2024-12-06\\\\en\\\\clips\\\\common_voice_en_100012.mp3', 'D:\\\\voice_data\\\\english\\\\cv-corpus-20.0-2024-12-06\\\\en\\\\clips\\\\common_voice_en_100013.mp3', 'D:\\\\voice_data\\\\english\\\\cv-corpus-20.0-2024-12-06\\\\en\\\\clips\\\\common_voice_en_100014.mp3', 'D:\\\\voice_data\\\\english\\\\cv-corpus-20.0-2024-12-06\\\\en\\\\clips\\\\common_voice_en_100015.mp3', 'D:\\\\voice_data\\\\english\\\\cv-corpus-20.0-2024-12-06\\\\en\\\\clips\\\\common_voice_en_100016.mp3', 'D:\\\\voice_data\\\\english\\\\cv-corpus-20.0-2024-12-06\\\\en\\\\clips\\\\common_voice_en_100017.mp3', 'D:\\\\voice_data\\\\english\\\\cv-corpus-20.0-2024-12-06\\\\en\\\\clips\\\\common_voice_en_100018.mp3', 'D:\\\\voice_data\\\\english\\\\cv-corpus-20.0-2024-12-06\\\\en\\\\clips\\\\common_voice_en_100019.mp3', 'D:\\\\voice_data\\\\english\\\\cv-corpus-20.0-2024-12-06\\\\en\\\\clips\\\\common_voice_en_10002.mp3', 'D:\\\\voice_data\\\\english\\\\cv-corpus-20.0-2024-12-06\\\\en\\\\clips\\\\common_voice_en_100020.mp3', 'D:\\\\voice_data\\\\english\\\\cv-corpus-20.0-2024-12-06\\\\en\\\\clips\\\\common_voice_en_100021.mp3', 'D:\\\\voice_data\\\\english\\\\cv-corpus-20.0-2024-12-06\\\\en\\\\clips\\\\common_voice_en_100022.mp3', 'D:\\\\voice_data\\\\english\\\\cv-corpus-20.0-2024-12-06\\\\en\\\\clips\\\\common_voice_en_100023.mp3', 'D:\\\\voice_data\\\\english\\\\cv-corpus-20.0-2024-12-06\\\\en\\\\clips\\\\common_voice_en_100024.mp3', 'D:\\\\voice_data\\\\english\\\\cv-corpus-20.0-2024-12-06\\\\en\\\\clips\\\\common_voice_en_100025.mp3', 'D:\\\\voice_data\\\\english\\\\cv-corpus-20.0-2024-12-06\\\\en\\\\clips\\\\common_voice_en_100026.mp3', 'D:\\\\voice_data\\\\english\\\\cv-corpus-20.0-2024-12-06\\\\en\\\\clips\\\\common_voice_en_100027.mp3', 'D:\\\\voice_data\\\\english\\\\cv-corpus-20.0-2024-12-06\\\\en\\\\clips\\\\common_voice_en_100028.mp3', 'D:\\\\voice_data\\\\english\\\\cv-corpus-20.0-2024-12-06\\\\en\\\\clips\\\\common_voice_en_100029.mp3', 'D:\\\\voice_data\\\\english\\\\cv-corpus-20.0-2024-12-06\\\\en\\\\clips\\\\common_voice_en_10003.mp3', 'D:\\\\voice_data\\\\english\\\\cv-corpus-20.0-2024-12-06\\\\en\\\\clips\\\\common_voice_en_100030.mp3', 'D:\\\\voice_data\\\\english\\\\cv-corpus-20.0-2024-12-06\\\\en\\\\clips\\\\common_voice_en_100031.mp3', 'D:\\\\voice_data\\\\english\\\\cv-corpus-20.0-2024-12-06\\\\en\\\\clips\\\\common_voice_en_100032.mp3', 'D:\\\\voice_data\\\\english\\\\cv-corpus-20.0-2024-12-06\\\\en\\\\clips\\\\common_voice_en_100033.mp3', 'D:\\\\voice_data\\\\english\\\\cv-corpus-20.0-2024-12-06\\\\en\\\\clips\\\\common_voice_en_100034.mp3', 'D:\\\\voice_data\\\\english\\\\cv-corpus-20.0-2024-12-06\\\\en\\\\clips\\\\common_voice_en_100035.mp3', 'D:\\\\voice_data\\\\english\\\\cv-corpus-20.0-2024-12-06\\\\en\\\\clips\\\\common_voice_en_100036.mp3', 'D:\\\\voice_data\\\\english\\\\cv-corpus-20.0-2024-12-06\\\\en\\\\clips\\\\common_voice_en_100037.mp3', 'D:\\\\voice_data\\\\english\\\\cv-corpus-20.0-2024-12-06\\\\en\\\\clips\\\\common_voice_en_100038.mp3', 'D:\\\\voice_data\\\\english\\\\cv-corpus-20.0-2024-12-06\\\\en\\\\clips\\\\common_voice_en_100039.mp3', 'D:\\\\voice_data\\\\english\\\\cv-corpus-20.0-2024-12-06\\\\en\\\\clips\\\\common_voice_en_10004.mp3', 'D:\\\\voice_data\\\\english\\\\cv-corpus-20.0-2024-12-06\\\\en\\\\clips\\\\common_voice_en_100040.mp3', 'D:\\\\voice_data\\\\english\\\\cv-corpus-20.0-2024-12-06\\\\en\\\\clips\\\\common_voice_en_100041.mp3', 'D:\\\\voice_data\\\\english\\\\cv-corpus-20.0-2024-12-06\\\\en\\\\clips\\\\common_voice_en_100042.mp3', 'D:\\\\voice_data\\\\english\\\\cv-corpus-20.0-2024-12-06\\\\en\\\\clips\\\\common_voice_en_100043.mp3', 'D:\\\\voice_data\\\\english\\\\cv-corpus-20.0-2024-12-06\\\\en\\\\clips\\\\common_voice_en_100044.mp3', 'D:\\\\voice_data\\\\english\\\\cv-corpus-20.0-2024-12-06\\\\en\\\\clips\\\\common_voice_en_100045.mp3', 'D:\\\\voice_data\\\\english\\\\cv-corpus-20.0-2024-12-06\\\\en\\\\clips\\\\common_voice_en_100046.mp3', 'D:\\\\voice_data\\\\english\\\\cv-corpus-20.0-2024-12-06\\\\en\\\\clips\\\\common_voice_en_100047.mp3', 'D:\\\\voice_data\\\\english\\\\cv-corpus-20.0-2024-12-06\\\\en\\\\clips\\\\common_voice_en_100048.mp3', 'D:\\\\voice_data\\\\english\\\\cv-corpus-20.0-2024-12-06\\\\en\\\\clips\\\\common_voice_en_100049.mp3', 'D:\\\\voice_data\\\\english\\\\cv-corpus-20.0-2024-12-06\\\\en\\\\clips\\\\common_voice_en_10005.mp3', 'D:\\\\voice_data\\\\english\\\\cv-corpus-20.0-2024-12-06\\\\en\\\\clips\\\\common_voice_en_100050.mp3', 'D:\\\\voice_data\\\\english\\\\cv-corpus-20.0-2024-12-06\\\\en\\\\clips\\\\common_voice_en_100051.mp3', 'D:\\\\voice_data\\\\english\\\\cv-corpus-20.0-2024-12-06\\\\en\\\\clips\\\\common_voice_en_100052.mp3', 'D:\\\\voice_data\\\\english\\\\cv-corpus-20.0-2024-12-06\\\\en\\\\clips\\\\common_voice_en_100053.mp3', 'D:\\\\voice_data\\\\english\\\\cv-corpus-20.0-2024-12-06\\\\en\\\\clips\\\\common_voice_en_100054.mp3', 'D:\\\\voice_data\\\\english\\\\cv-corpus-20.0-2024-12-06\\\\en\\\\clips\\\\common_voice_en_100055.mp3', 'D:\\\\voice_data\\\\english\\\\cv-corpus-20.0-2024-12-06\\\\en\\\\clips\\\\common_voice_en_100056.mp3', 'D:\\\\voice_data\\\\english\\\\cv-corpus-20.0-2024-12-06\\\\en\\\\clips\\\\common_voice_en_100057.mp3', 'D:\\\\voice_data\\\\english\\\\cv-corpus-20.0-2024-12-06\\\\en\\\\clips\\\\common_voice_en_100058.mp3', 'D:\\\\voice_data\\\\english\\\\cv-corpus-20.0-2024-12-06\\\\en\\\\clips\\\\common_voice_en_100059.mp3', 'D:\\\\voice_data\\\\english\\\\cv-corpus-20.0-2024-12-06\\\\en\\\\clips\\\\common_voice_en_10006.mp3', 'D:\\\\voice_data\\\\english\\\\cv-corpus-20.0-2024-12-06\\\\en\\\\clips\\\\common_voice_en_100060.mp3', 'D:\\\\voice_data\\\\english\\\\cv-corpus-20.0-2024-12-06\\\\en\\\\clips\\\\common_voice_en_100061.mp3', 'D:\\\\voice_data\\\\english\\\\cv-corpus-20.0-2024-12-06\\\\en\\\\clips\\\\common_voice_en_100062.mp3', 'D:\\\\voice_data\\\\english\\\\cv-corpus-20.0-2024-12-06\\\\en\\\\clips\\\\common_voice_en_100063.mp3', 'D:\\\\voice_data\\\\english\\\\cv-corpus-20.0-2024-12-06\\\\en\\\\clips\\\\common_voice_en_100064.mp3', 'D:\\\\voice_data\\\\english\\\\cv-corpus-20.0-2024-12-06\\\\en\\\\clips\\\\common_voice_en_100065.mp3', 'D:\\\\voice_data\\\\english\\\\cv-corpus-20.0-2024-12-06\\\\en\\\\clips\\\\common_voice_en_100066.mp3', 'D:\\\\voice_data\\\\english\\\\cv-corpus-20.0-2024-12-06\\\\en\\\\clips\\\\common_voice_en_100067.mp3', 'D:\\\\voice_data\\\\english\\\\cv-corpus-20.0-2024-12-06\\\\en\\\\clips\\\\common_voice_en_100068.mp3', 'D:\\\\voice_data\\\\english\\\\cv-corpus-20.0-2024-12-06\\\\en\\\\clips\\\\common_voice_en_100069.mp3', 'D:\\\\voice_data\\\\english\\\\cv-corpus-20.0-2024-12-06\\\\en\\\\clips\\\\common_voice_en_10007.mp3', 'D:\\\\voice_data\\\\english\\\\cv-corpus-20.0-2024-12-06\\\\en\\\\clips\\\\common_voice_en_100070.mp3', 'D:\\\\voice_data\\\\english\\\\cv-corpus-20.0-2024-12-06\\\\en\\\\clips\\\\common_voice_en_100071.mp3', 'D:\\\\voice_data\\\\english\\\\cv-corpus-20.0-2024-12-06\\\\en\\\\clips\\\\common_voice_en_100072.mp3', 'D:\\\\voice_data\\\\english\\\\cv-corpus-20.0-2024-12-06\\\\en\\\\clips\\\\common_voice_en_100073.mp3', 'D:\\\\voice_data\\\\english\\\\cv-corpus-20.0-2024-12-06\\\\en\\\\clips\\\\common_voice_en_100074.mp3', 'D:\\\\voice_data\\\\english\\\\cv-corpus-20.0-2024-12-06\\\\en\\\\clips\\\\common_voice_en_100075.mp3', 'D:\\\\voice_data\\\\english\\\\cv-corpus-20.0-2024-12-06\\\\en\\\\clips\\\\common_voice_en_100076.mp3', 'D:\\\\voice_data\\\\english\\\\cv-corpus-20.0-2024-12-06\\\\en\\\\clips\\\\common_voice_en_100077.mp3', 'D:\\\\voice_data\\\\english\\\\cv-corpus-20.0-2024-12-06\\\\en\\\\clips\\\\common_voice_en_100078.mp3', 'D:\\\\voice_data\\\\english\\\\cv-corpus-20.0-2024-12-06\\\\en\\\\clips\\\\common_voice_en_100079.mp3', 'D:\\\\voice_data\\\\english\\\\cv-corpus-20.0-2024-12-06\\\\en\\\\clips\\\\common_voice_en_10008.mp3', 'D:\\\\voice_data\\\\english\\\\cv-corpus-20.0-2024-12-06\\\\en\\\\clips\\\\common_voice_en_100080.mp3', 'D:\\\\voice_data\\\\english\\\\cv-corpus-20.0-2024-12-06\\\\en\\\\clips\\\\common_voice_en_100081.mp3', 'D:\\\\voice_data\\\\english\\\\cv-corpus-20.0-2024-12-06\\\\en\\\\clips\\\\common_voice_en_100082.mp3', 'D:\\\\voice_data\\\\english\\\\cv-corpus-20.0-2024-12-06\\\\en\\\\clips\\\\common_voice_en_100083.mp3', 'D:\\\\voice_data\\\\english\\\\cv-corpus-20.0-2024-12-06\\\\en\\\\clips\\\\common_voice_en_100084.mp3', 'D:\\\\voice_data\\\\english\\\\cv-corpus-20.0-2024-12-06\\\\en\\\\clips\\\\common_voice_en_100085.mp3', 'D:\\\\voice_data\\\\english\\\\cv-corpus-20.0-2024-12-06\\\\en\\\\clips\\\\common_voice_en_100086.mp3']\n"
     ]
    }
   ],
   "source": [
    "name = \"english\"\n",
    "# mp3files = os.listdir(folders[\"english\"])[: max_files]\n",
    "folder_path = folders[name]\n",
    "\n",
    "# Use os.scandir() for better performance and islice() to limit to 100 files\n",
    "# mp3files = [entry.name for entry in itertools.islice(os.scandir(folder_path), 100)]\n",
    "mp3files = [entry.path for entry in itertools.islice(os.scandir(folder_path), 100)]\n",
    "print(mp3files)"
   ]
  },
  {
   "cell_type": "code",
   "execution_count": null,
   "metadata": {},
   "outputs": [],
   "source": []
  },
  {
   "cell_type": "code",
   "execution_count": null,
   "metadata": {},
   "outputs": [
    {
     "name": "stdout",
     "output_type": "stream",
     "text": [
      "18745258\n"
     ]
    }
   ],
   "source": [
    "file_name = r\"D:\\voice_data\\english\\cv-corpus-20.0-2024-12-06\\en\\clips\\common_voice_es_18745258.mp3\"\n"
   ]
  },
  {
   "cell_type": "code",
   "execution_count": 8,
   "metadata": {},
   "outputs": [
    {
     "name": "stdout",
     "output_type": "stream",
     "text": [
      "<pydub.audio_segment.AudioSegment object at 0x000001D089D403E0>\n"
     ]
    }
   ],
   "source": [
    "print(audio[0:])"
   ]
  },
  {
   "cell_type": "code",
   "execution_count": 15,
   "metadata": {},
   "outputs": [
    {
     "data": {
      "text/plain": [
       "[<matplotlib.lines.Line2D at 0x1d089d131d0>]"
      ]
     },
     "execution_count": 15,
     "metadata": {},
     "output_type": "execute_result"
    },
    {
     "data": {
      "image/png": "[encoded data removed]",
      "text/plain": [
       "<Figure size 640x480 with 1 Axes>"
      ]
     },
     "metadata": {},
     "output_type": "display_data"
    }
   ],
   "source": [
    "samples = np.array(segment.get_array_of_samples())\n",
    "plt.plot(samples)\n"
   ]
  },
  {
   "cell_type": "code",
   "execution_count": 21,
   "metadata": {},
   "outputs": [
    {
     "name": "stdout",
     "output_type": "stream",
     "text": [
      "32000\n",
      "160000\n",
      "466560\n"
     ]
    }
   ],
   "source": [
    "audio = AudioSegment.from_mp3(mp3_file)\n",
    "\n",
    "# Convert to mono (reduces storage)\n",
    "audio = audio.set_channels(1)\n",
    "\n",
    "# Set sample rate (reduces storage if needed)\n",
    "print(audio.frame_rate)\n",
    "sr = 32000\n",
    "audio = audio.set_frame_rate(sr)\n",
    "\n",
    "# Split into 5-second chunks\n",
    "segment_length = 5 * 1000  # 5 seconds in milliseconds\n",
    "num_segments = len(audio) // segment_length  # Ignore remainder\n",
    "\n",
    "\n",
    "segment = audio[0:segment_length]\n",
    "\n",
    "# Convert to NumPy array and normalize\n",
    "samples = np.array(segment.get_array_of_samples()).astype(np.float32) / 2**15\n",
    "\n",
    "allsamples = np.array(audio.get_array_of_samples())\n",
    "print(len(samples))\n",
    "print(len(allsamples))\n",
    "# Compute spectrogram using STFT\n",
    "S = librosa.stft(samples, n_fft=1024, hop_length=512)  \n",
    "S_db = librosa.amplitude_to_db(np.abs(S), ref=np.max)"
   ]
  },
  {
   "cell_type": "code",
   "execution_count": 4,
   "metadata": {},
   "outputs": [],
   "source": [
    "import numpy as np\n",
    "from PIL import Image\n",
    "\n",
    "# Assuming your array is named 'arr' and has shape (1, 256*256)\n",
    "arr = np.random.randint(0, 256, (256,256,3), dtype=np.uint8)  # Example data\n",
    "\n",
    "# Convert to grayscale image\n",
    "img = Image.fromarray(arr, mode='RGB')\n",
    "\n",
    "# Save as PNG\n",
    "img.save(\"noise.png\")"
   ]
  }
 ],
 "metadata": {
  "kernelspec": {
   "display_name": "Python 3",
   "language": "python",
   "name": "python3"
  },
  "language_info": {
   "codemirror_mode": {
    "name": "ipython",
    "version": 3
   },
   "file_extension": ".py",
   "mimetype": "text/x-python",
   "name": "python",
   "nbconvert_exporter": "python",
   "pygments_lexer": "ipython3",
   "version": "3.12.4"
  }
 },
 "nbformat": 4,
 "nbformat_minor": 2
}
